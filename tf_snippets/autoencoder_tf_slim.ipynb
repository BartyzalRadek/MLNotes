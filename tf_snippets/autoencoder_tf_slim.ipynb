{
 "cells": [
  {
   "cell_type": "markdown",
   "metadata": {},
   "source": [
    "Inspired by:\n",
    "\n",
    "https://github.com/aymericdamien/TensorFlow-Examples/blob/master/examples/3_NeuralNetworks/autoencoder.py"
   ]
  },
  {
   "cell_type": "code",
   "execution_count": 1,
   "metadata": {
    "collapsed": false
   },
   "outputs": [
    {
     "name": "stderr",
     "output_type": "stream",
     "text": [
      "C:\\Anaconda3\\envs\\tensorflow_1.2_gpu\\lib\\site-packages\\h5py\\__init__.py:36: FutureWarning: Conversion of the second argument of issubdtype from `float` to `np.floating` is deprecated. In future, it will be treated as `np.float64 == np.dtype(float).type`.\n",
      "  from ._conv import register_converters as _register_converters\n"
     ]
    }
   ],
   "source": [
    "from __future__ import division, print_function, absolute_import\n",
    "\n",
    "import tensorflow as tf\n",
    "import numpy as np\n",
    "import matplotlib.pyplot as plt\n",
    "import os\n",
    "\n",
    "# Import MNIST data\n",
    "from tensorflow.examples.tutorials.mnist import input_data\n",
    "\n",
    "import tensorflow.contrib.slim as slim"
   ]
  },
  {
   "cell_type": "code",
   "execution_count": 2,
   "metadata": {
    "collapsed": false
   },
   "outputs": [
    {
     "name": "stdout",
     "output_type": "stream",
     "text": [
      "Extracting /tmp/data/train-images-idx3-ubyte.gz\n",
      "Extracting /tmp/data/train-labels-idx1-ubyte.gz\n",
      "Extracting /tmp/data/t10k-images-idx3-ubyte.gz\n",
      "Extracting /tmp/data/t10k-labels-idx1-ubyte.gz\n"
     ]
    }
   ],
   "source": [
    "mnist = input_data.read_data_sets(\"/tmp/data/\", one_hot=True)"
   ]
  },
  {
   "cell_type": "code",
   "execution_count": 3,
   "metadata": {
    "collapsed": false
   },
   "outputs": [
    {
     "data": {
      "text/plain": [
       "<tf.Tensor 'loss:0' shape=() dtype=string>"
      ]
     },
     "execution_count": 3,
     "metadata": {},
     "output_type": "execute_result"
    }
   ],
   "source": [
    "# Training Parameters\n",
    "learning_rate = 0.01\n",
    "num_steps = 10000\n",
    "batch_size = 256\n",
    "\n",
    "display_step = 1000\n",
    "examples_to_show = 10\n",
    "\n",
    "# Network Parameters\n",
    "num_hidden_1 = 256 # 1st layer num features\n",
    "num_hidden_2 = 128 # 2nd layer num features (the latent dim)\n",
    "num_input = 784 # MNIST data input (img shape: 28*28)\n",
    "\n",
    "# tf Graph input (only pictures)\n",
    "X = tf.placeholder(\"float\", [None, num_input], name='input')\n",
    "\n",
    "\"\"\"\n",
    "weights = {\n",
    "    'encoder_h1': tf.Variable(tf.random_normal([num_input, num_hidden_1])),\n",
    "    'encoder_h2': tf.Variable(tf.random_normal([num_hidden_1, num_hidden_2])),\n",
    "    'decoder_h1': tf.Variable(tf.random_normal([num_hidden_2, num_hidden_1])),\n",
    "    'decoder_h2': tf.Variable(tf.random_normal([num_hidden_1, num_input])),\n",
    "}\n",
    "biases = {\n",
    "    'encoder_b1': tf.Variable(tf.random_normal([num_hidden_1])),\n",
    "    'encoder_b2': tf.Variable(tf.random_normal([num_hidden_2])),\n",
    "    'decoder_b1': tf.Variable(tf.random_normal([num_hidden_1])),\n",
    "    'decoder_b2': tf.Variable(tf.random_normal([num_input])),\n",
    "}\n",
    "\"\"\"\n",
    "\n",
    "# Building the encoder\n",
    "def encoder(x):\n",
    "    \"\"\"\n",
    "    with tf.name_scope('encoder'):\n",
    "        # Encoder Hidden layer with sigmoid activation #1\n",
    "        layer_1 = tf.nn.sigmoid(tf.add(tf.matmul(x, weights['encoder_h1']), biases['encoder_b1']), name='fc_1')\n",
    "        \n",
    "        # Encoder Hidden layer with sigmoid activation - output is tensor: 'encoder/fc_2:0'\n",
    "        layer_2 = tf.nn.sigmoid(tf.add(tf.matmul(layer_1, weights['encoder_h2']), biases['encoder_b2']), name='fc_2')\n",
    "    \"\"\"\n",
    "    \n",
    "    # tf.slim does not prepend scope from tf.name_scope('encoder') - it must be specified fully in argument scope='...'\n",
    "    # Ouput of last layer is tensor: 'encoder/fc_2/Sigmoid:0'\n",
    "    \"\"\"\n",
    "    x = slim.fully_connected(x, num_hidden_1, activation_fn=tf.nn.sigmoid, scope='encoder/fc_1')\n",
    "    x = slim.fully_connected(x, num_hidden_2, activation_fn=tf.nn.sigmoid, scope='encoder/fc_2')\n",
    "    \"\"\"\n",
    "    \n",
    "    # output of 2nd encoder layer will be tensor 'encoder/encoder_2/Sigmoid:0'\n",
    "    \"\"\"\n",
    "    x = slim.stack(x, slim.fully_connected, \n",
    "                         [num_hidden_1, num_hidden_2], \n",
    "                         activation_fn=tf.nn.sigmoid, \n",
    "                         scope='encoder')\n",
    "    \"\"\"\n",
    "    \n",
    "    # output of 2nd decoder layer will be tensor 'encoder/fc_2/Sigmoid:0'\n",
    "    with tf.variable_scope('encoder'):\n",
    "        x = tf.layers.dense(x, num_hidden_1, activation=tf.nn.sigmoid, name='fc_1')\n",
    "        x = tf.layers.dense(x, num_hidden_2, activation=tf.nn.sigmoid, name='fc_2')\n",
    "    \n",
    "    return x\n",
    "\n",
    "\n",
    "# Building the decoder\n",
    "def decoder(x):\n",
    "    \"\"\"\n",
    "    with tf.name_scope('decoder'):\n",
    "        # Decoder Hidden layer with sigmoid activation #1\n",
    "        layer_1 = tf.nn.sigmoid(tf.add(tf.matmul(x, weights['decoder_h1']),biases['decoder_b1']), name='fc_1')\n",
    "        \n",
    "        # Decoder Hidden layer with sigmoid activation #2\n",
    "        layer_2 = tf.nn.sigmoid(tf.add(tf.matmul(layer_1, weights['decoder_h2']),biases['decoder_b2']), name='fc_2')\n",
    "    \"\"\"\n",
    "    \n",
    "    # tf.slim does not prepend scope from tf.name_scope('decoder') - it must be specified fully in argument scope='...'\n",
    "    # Ouput of last layer is tensor: 'decoder/fc_2/Sigmoid:0'\n",
    "    \"\"\"\n",
    "    x = slim.fully_connected(x, num_hidden_1, activation_fn=tf.nn.sigmoid, scope='decoder/fc_1')\n",
    "    x = slim.fully_connected(x, num_input,    activation_fn=tf.nn.sigmoid, scope='decoder/fc_2')\n",
    "    \"\"\"\n",
    "    \n",
    "    # output of 2nd decoder layer will be tensor 'decoder/decoder_2/Sigmoid:0'\n",
    "    \"\"\"\n",
    "    x = slim.stack(x, slim.fully_connected, \n",
    "                         [num_hidden_1, num_input], \n",
    "                         activation_fn=tf.nn.sigmoid, \n",
    "                         scope='decoder')\n",
    "    \"\"\"\n",
    "    \n",
    "    # output of 2nd decoder layer will be tensor 'decoder/fc_2/Sigmoid:0'\n",
    "    with tf.variable_scope('decoder'):\n",
    "        x = tf.layers.dense(x, num_hidden_1, activation=tf.nn.sigmoid, name='fc_1')\n",
    "        x = tf.layers.dense(x, num_input,    activation=tf.nn.sigmoid, name='fc_2')\n",
    "    \n",
    "    return x\n",
    "\n",
    "# Construct model\n",
    "encoder_op = encoder(X)\n",
    "decoder_op = decoder(encoder_op)\n",
    "\n",
    "# Prediction\n",
    "y_pred = decoder_op\n",
    "# Targets (Labels) are the input data.\n",
    "y_true = X\n",
    "\n",
    "# Define loss and optimizer, minimize the squared error\n",
    "loss = tf.reduce_mean(tf.pow(y_true - y_pred, 2))\n",
    "optimizer = tf.train.RMSPropOptimizer(learning_rate).minimize(loss)\n",
    "\n",
    "# Log loss to be plottted in Tensorboard\n",
    "tf.summary.scalar('loss', loss)"
   ]
  },
  {
   "cell_type": "code",
   "execution_count": 4,
   "metadata": {
    "collapsed": false
   },
   "outputs": [
    {
     "name": "stdout",
     "output_type": "stream",
     "text": [
      "Logged graph to tensorboard.\n",
      "Step 1: Minibatch Loss: 0.241601\n",
      "Step 1000: Minibatch Loss: 0.023709\n",
      "Step 2000: Minibatch Loss: 0.015868\n",
      "Step 3000: Minibatch Loss: 0.012545\n",
      "Step 4000: Minibatch Loss: 0.011652\n",
      "Step 5000: Minibatch Loss: 0.009120\n",
      "Step 6000: Minibatch Loss: 0.008966\n",
      "Step 7000: Minibatch Loss: 0.008826\n",
      "Step 8000: Minibatch Loss: 0.008047\n",
      "Step 9000: Minibatch Loss: 0.007790\n",
      "Step 10000: Minibatch Loss: 0.007462\n",
      "Saving model to disk...\n",
      "Successfully saved model to disk.\n",
      "Original Images\n"
     ]
    },
    {
     "data": {
      "image/png": "[encoded data removed]",
      "text/plain": [
       "<Figure size 288x288 with 1 Axes>"
      ]
     },
     "metadata": {},
     "output_type": "display_data"
    },
    {
     "name": "stdout",
     "output_type": "stream",
     "text": [
      "Reconstructed Images\n"
     ]
    },
    {
     "data": {
      "image/png": "[encoded data removed]",
      "text/plain": [
       "<Figure size 288x288 with 1 Axes>"
      ]
     },
     "metadata": {},
     "output_type": "display_data"
    }
   ],
   "source": [
    "# Initialize the variables (i.e. assign their default value)\n",
    "\n",
    "SAVED_MODEL_NAME = \"autoencoder_final\"\n",
    "LOGDIR = 'log'\n",
    "        \n",
    "\n",
    "# Start a new TF session\n",
    "with tf.Session() as sess:\n",
    "\n",
    "    if os.path.exists(SAVED_MODEL_NAME + \".meta\"):\n",
    "        print(\"Restoring trained model from\", SAVED_MODEL_NAME + \".meta\")\n",
    "        imported_meta = tf.train.import_meta_graph(SAVED_MODEL_NAME + \".meta\")\n",
    "        imported_meta.restore(sess, tf.train.latest_checkpoint('./'))\n",
    "        \n",
    "        train_writer = tf.summary.FileWriter(os.path.join(LOGDIR,'loaded'), sess.graph)# Open graph in Firefox! Chrome has issues.    \n",
    "\n",
    "    else:\n",
    "        # Start Training\n",
    "        # Run the initializer\n",
    "        init = tf.global_variables_initializer()\n",
    "        sess.run(init)\n",
    "        \n",
    "        merged = tf.summary.merge_all()\n",
    "        train_writer = tf.summary.FileWriter(os.path.join(LOGDIR,'train'), sess.graph)\n",
    "        print(\"Logged graph to tensorboard.\")\n",
    "        \n",
    "        # Training\n",
    "        for i in range(1, num_steps+1):\n",
    "            # Prepare Data\n",
    "            # Get the next batch of MNIST data (only images are needed, not labels)\n",
    "            batch_x, _ = mnist.train.next_batch(batch_size)\n",
    "\n",
    "            # Run optimization op (backprop) and cost op (to get loss value)\n",
    "            summary, _, l = sess.run([merged, optimizer, loss], feed_dict={X: batch_x})\n",
    "            train_writer.add_summary(summary, i)\n",
    "            # Display logs per step\n",
    "            if i % display_step == 0 or i == 1:\n",
    "                print('Step %i: Minibatch Loss: %f' % (i, l))\n",
    "                # Create a checkpoint every N iteration\n",
    "                # saver.save(sess, 'autoencoder_iter', global_step=i)\n",
    "\n",
    "        saver = tf.train.Saver()\n",
    "        print(\"Saving model to disk...\")\n",
    "        saver.save(sess, './' + SAVED_MODEL_NAME) # Has to have a directory specified\n",
    "        print(\"Successfully saved model to disk.\")\n",
    "         \n",
    "\n",
    "    # Testing\n",
    "    # Encode and decode images from test set and visualize their reconstruction.\n",
    "    n = 4\n",
    "    canvas_orig = np.empty((28 * n, 28 * n))\n",
    "    canvas_recon = np.empty((28 * n, 28 * n))\n",
    "    for i in range(n):\n",
    "        # MNIST test set\n",
    "        batch_x, _ = mnist.test.next_batch(n)\n",
    "        # Encode and decode the digit image\n",
    "        # g = sess.run(decoder_op, feed_dict={X: batch_x})\n",
    "        g = sess.run('decoder/fc_2/Sigmoid:0', feed_dict={'input:0': batch_x}) # this will run even if you just load the model\n",
    "        \n",
    "        # Display original images\n",
    "        for j in range(n):\n",
    "            # Draw the original digits\n",
    "            canvas_orig[i * 28:(i + 1) * 28, j * 28:(j + 1) * 28] = \\\n",
    "                batch_x[j].reshape([28, 28])\n",
    "        # Display reconstructed images\n",
    "        for j in range(n):\n",
    "            # Draw the reconstructed digits\n",
    "            canvas_recon[i * 28:(i + 1) * 28, j * 28:(j + 1) * 28] = \\\n",
    "                g[j].reshape([28, 28])\n",
    "\n",
    "    print(\"Original Images\")\n",
    "    plt.figure(figsize=(n, n))\n",
    "    plt.imshow(canvas_orig, origin=\"upper\", cmap=\"gray\")\n",
    "    plt.show()\n",
    "\n",
    "    print(\"Reconstructed Images\")\n",
    "    plt.figure(figsize=(n, n))\n",
    "    plt.imshow(canvas_recon, origin=\"upper\", cmap=\"gray\")\n",
    "    plt.show()\n",
    "    "
   ]
  },
  {
   "cell_type": "code",
   "execution_count": null,
   "metadata": {
    "collapsed": true
   },
   "outputs": [],
   "source": []
  }
 ],
 "metadata": {
  "kernelspec": {
   "display_name": "TF_1.2_GPU_Python3",
   "language": "python",
   "name": "tf_1.2_gpu_python3"
  },
  "language_info": {
   "codemirror_mode": {
    "name": "ipython",
    "version": 3
   },
   "file_extension": ".py",
   "mimetype": "text/x-python",
   "name": "python",
   "nbconvert_exporter": "python",
   "pygments_lexer": "ipython3",
   "version": "3.5.5"
  }
 },
 "nbformat": 4,
 "nbformat_minor": 2
}
