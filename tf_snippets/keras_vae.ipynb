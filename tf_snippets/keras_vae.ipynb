{
 "cells": [
  {
   "cell_type": "markdown",
   "metadata": {},
   "source": [
    "https://github.com/keras-team/keras/blob/2.1.1/examples/variational_autoencoder.py"
   ]
  },
  {
   "cell_type": "code",
   "execution_count": 1,
   "metadata": {
    "collapsed": false
   },
   "outputs": [
    {
     "name": "stdout",
     "output_type": "stream",
     "text": [
      "TF version =  1.11.0\n",
      "Keras version =  2.1.6-tf\n"
     ]
    }
   ],
   "source": [
    "%matplotlib inline\n",
    "import matplotlib.pyplot as plt\n",
    "import numpy as np\n",
    "import tensorflow as tf\n",
    "import tensorflow.keras as keras\n",
    "from tensorflow.keras import layers\n",
    "from tensorflow.keras.datasets import mnist\n",
    "from tensorflow.keras.models import Model\n",
    "from tensorflow.keras import backend as K\n",
    "from tensorflow.keras.initializers import RandomNormal\n",
    "from keras_commons import get_config_proto, set_session_config, CustomTensorBoardCallback\n",
    "\n",
    "print(\"TF version = \", tf.VERSION)\n",
    "print(\"Keras version = \",keras.__version__)\n",
    "set_session_config(get_config_proto())"
   ]
  },
  {
   "cell_type": "code",
   "execution_count": 2,
   "metadata": {
    "collapsed": false
   },
   "outputs": [
    {
     "name": "stdout",
     "output_type": "stream",
     "text": [
      "x_train.shape (60000, 28, 28)\n",
      "y_train.shape=(60000,) y_train[:5]=[5 0 4 1 9]\n"
     ]
    }
   ],
   "source": [
    "# the data, shuffled and split between train and test sets\n",
    "(x_train, y_train), (x_test, y_test) = mnist.load_data()\n",
    "\n",
    "# Turn ints to floats and Normalize values to <0,1>\n",
    "x_train = x_train/255.0\n",
    "x_test = x_test/255.0\n",
    "\n",
    "print('x_train.shape', x_train.shape)\n",
    "print('y_train.shape={} y_train[:5]={}'.format(y_train.shape, y_train[:5]))"
   ]
  },
  {
   "cell_type": "code",
   "execution_count": 3,
   "metadata": {
    "collapsed": true
   },
   "outputs": [],
   "source": [
    "HIDDEN_DIM_1 = 64\n",
    "HIDDEN_DIM_2 = 32\n",
    "LATENT_DIM = 16\n",
    "IMG_SHAPE = (28, 28)\n",
    "NOISE_RATIO = 0.1\n",
    "LEARNING_RATE = 0.002\n",
    "BETA = 0.1\n",
    "\n",
    "def build_encoder():\n",
    "    input_img = layers.Input(shape=IMG_SHAPE, name='encoder_input')\n",
    "    x = input_img\n",
    "    #x = layers.GaussianNoise(stddev=NOISE_RATIO, name='noisy_input')(x)\n",
    "    x = layers.Flatten()(x)\n",
    "    x = layers.Dense(HIDDEN_DIM_1, activation=keras.activations.relu, name='fc_1')(x)\n",
    "    x = layers.Dense(HIDDEN_DIM_2, activation=keras.activations.relu, name='fc_2')(x)\n",
    "    latent_repr = layers.Dense(LATENT_DIM, activation=keras.activations.relu, name='latent_repr')(x)\n",
    "    return Model(input_img, latent_repr, name='encoder')\n",
    "\n",
    "def build_mu_log_var():\n",
    "    latent_repr = layers.Input(shape=(LATENT_DIM, ), name='latent_repr_input')\n",
    "    mu = layers.Dense(LATENT_DIM, name='mu')(latent_repr) #kernel_initializer=RandomNormal(stddev=0.001)\n",
    "    log_var = layers.Dense(LATENT_DIM, name='log_var')(latent_repr)\n",
    "    #var = layers.Lambda(lambda input_t: K.exp(0.5 * input_t))(log_var)\n",
    "    return Model(latent_repr, [mu, log_var])\n",
    "\n",
    "def build_sampling_model():\n",
    "    def sample(mu_log_var):\n",
    "        \"\"\" \n",
    "        mu_log_var = [mu, log_var]\n",
    "        log_var = log(sigma**2)\n",
    "        Returns a sampled tensor from the normal distribution N(mu, sigma)\n",
    "        \"\"\"\n",
    "        mu, log_var = mu_log_var\n",
    "        log_var_exp = K.exp(log_var / 2.0)\n",
    "        sampled_repr = mu + log_var_exp*K.random_normal(shape=K.shape(log_var_exp), mean=0.0, stddev=1.0)\n",
    "        return sampled_repr\n",
    "    \n",
    "    mu = layers.Input(shape=(LATENT_DIM, ), name='mu_input')\n",
    "    log_var = layers.Input(shape=(LATENT_DIM, ), name='log_var_input')\n",
    "    sampling_layer = layers.Lambda(sample)\n",
    "    sampled_repr = sampling_layer([mu, log_var])\n",
    "    return Model([mu, log_var], sampled_repr)\n",
    "\n",
    "def build_decoder():\n",
    "    latent_repr = layers.Input(shape=(LATENT_DIM, ), name='latent_repr_input')\n",
    "    x = layers.Dense(HIDDEN_DIM_2, activation=keras.activations.relu, name='fc_1')(latent_repr)\n",
    "    x = layers.Dense(HIDDEN_DIM_1, activation=keras.activations.relu, name='fc_2')(x)\n",
    "    x = layers.Dense(np.prod(IMG_SHAPE), activation=keras.activations.relu, name='fc_3')(x)\n",
    "    output_img = layers.Reshape(IMG_SHAPE)(x)\n",
    "    return Model(latent_repr, output_img, name='decoder')\n",
    "\n"
   ]
  },
  {
   "cell_type": "code",
   "execution_count": 4,
   "metadata": {
    "collapsed": false
   },
   "outputs": [],
   "source": [
    "encoder = build_encoder()\n",
    "decoder = build_decoder()\n",
    "mu_log_var_model = build_mu_log_var()\n",
    "sampling_model = build_sampling_model()\n",
    "\n",
    "input_img = layers.Input(shape=IMG_SHAPE, name='input_img')\n",
    "latent_repr = encoder(input_img)\n",
    "mu, log_var = mu_log_var_model(latent_repr)\n",
    "sampled_latent_repr = sampling_model([mu, log_var])\n",
    "output_img = decoder(sampled_latent_repr)\n",
    "\n",
    "autoencoder = Model(input_img, output_img, name='autoencoder')\n",
    "\n",
    "def get_kl_loss(mu, log_var):\n",
    "    def kl_loss(y_true, y_pred):\n",
    "        return -0.5*K.mean(1 + log_var - K.square(mu) - K.exp(log_var))\n",
    "    return kl_loss\n",
    "\n",
    "def reconstruction_loss(y_true, y_pred):\n",
    "    return keras.losses.binary_crossentropy(y_true, y_pred)\n",
    "\n",
    "def total_loss(y_true, y_pred):\n",
    "    rec_loss = reconstruction_loss(y_true, y_pred)\n",
    "    kl = get_kl_loss(mu, log_var)(y_true, y_pred)\n",
    "    return rec_loss + BETA * kl\n",
    "\n",
    "autoencoder.compile(loss=[total_loss], metrics=[reconstruction_loss, get_kl_loss(mu, log_var)], \n",
    "                    optimizer=keras.optimizers.RMSprop())"
   ]
  },
  {
   "cell_type": "code",
   "execution_count": 5,
   "metadata": {
    "collapsed": false,
    "scrolled": true
   },
   "outputs": [
    {
     "name": "stdout",
     "output_type": "stream",
     "text": [
      "Train on 60000 samples, validate on 10000 samples\n",
      "Epoch 1/15\n",
      " - 4s - loss: 0.3216 - reconstruction_loss: 0.3147 - kl_loss: 0.0691 - val_loss: 0.2921 - val_reconstruction_loss: 0.2789 - val_kl_loss: 0.1322\n",
      "Epoch 2/15\n",
      " - 3s - loss: 0.2889 - reconstruction_loss: 0.2718 - kl_loss: 0.1709 - val_loss: 0.2836 - val_reconstruction_loss: 0.2636 - val_kl_loss: 0.2000\n",
      "Epoch 3/15\n",
      " - 3s - loss: 0.2828 - reconstruction_loss: 0.2623 - kl_loss: 0.2046 - val_loss: 0.2779 - val_reconstruction_loss: 0.2546 - val_kl_loss: 0.2328\n",
      "Epoch 4/15\n",
      " - 3s - loss: 0.2780 - reconstruction_loss: 0.2555 - kl_loss: 0.2255 - val_loss: 0.2742 - val_reconstruction_loss: 0.2508 - val_kl_loss: 0.2336\n",
      "Epoch 5/15\n",
      " - 3s - loss: 0.2760 - reconstruction_loss: 0.2528 - kl_loss: 0.2321 - val_loss: 0.2717 - val_reconstruction_loss: 0.2481 - val_kl_loss: 0.2366\n",
      "Epoch 6/15\n",
      " - 3s - loss: 0.2744 - reconstruction_loss: 0.2507 - kl_loss: 0.2374 - val_loss: 0.2718 - val_reconstruction_loss: 0.2484 - val_kl_loss: 0.2340\n",
      "Epoch 7/15\n",
      " - 3s - loss: 0.2734 - reconstruction_loss: 0.2492 - kl_loss: 0.2428 - val_loss: 0.2720 - val_reconstruction_loss: 0.2470 - val_kl_loss: 0.2505\n",
      "Epoch 8/15\n",
      " - 3s - loss: 0.2721 - reconstruction_loss: 0.2472 - kl_loss: 0.2488 - val_loss: 0.2691 - val_reconstruction_loss: 0.2441 - val_kl_loss: 0.2497\n",
      "Epoch 9/15\n",
      " - 3s - loss: 0.2706 - reconstruction_loss: 0.2450 - kl_loss: 0.2552 - val_loss: 0.2679 - val_reconstruction_loss: 0.2414 - val_kl_loss: 0.2645\n",
      "Epoch 10/15\n",
      " - 3s - loss: 0.2703 - reconstruction_loss: 0.2443 - kl_loss: 0.2594 - val_loss: 0.2695 - val_reconstruction_loss: 0.2440 - val_kl_loss: 0.2556\n",
      "Epoch 11/15\n",
      " - 3s - loss: 0.2702 - reconstruction_loss: 0.2437 - kl_loss: 0.2651 - val_loss: 0.2667 - val_reconstruction_loss: 0.2404 - val_kl_loss: 0.2627\n",
      "Epoch 12/15\n",
      " - 3s - loss: 0.2695 - reconstruction_loss: 0.2429 - kl_loss: 0.2655 - val_loss: 0.2669 - val_reconstruction_loss: 0.2389 - val_kl_loss: 0.2798\n",
      "Epoch 13/15\n",
      " - 3s - loss: 0.2689 - reconstruction_loss: 0.2422 - kl_loss: 0.2672 - val_loss: 0.2682 - val_reconstruction_loss: 0.2404 - val_kl_loss: 0.2777\n",
      "Epoch 14/15\n",
      " - 3s - loss: 0.2681 - reconstruction_loss: 0.2411 - kl_loss: 0.2701 - val_loss: 0.2657 - val_reconstruction_loss: 0.2388 - val_kl_loss: 0.2694\n",
      "Epoch 15/15\n",
      " - 3s - loss: 0.2675 - reconstruction_loss: 0.2403 - kl_loss: 0.2725 - val_loss: 0.2695 - val_reconstruction_loss: 0.2391 - val_kl_loss: 0.3034\n"
     ]
    }
   ],
   "source": [
    "TB_callback = CustomTensorBoardCallback(log_dir='./tf_logs', write_graph=True, update_freq='epoch')\n",
    "\n",
    "history = autoencoder.fit(x_train, x_train,\n",
    "              batch_size=128,\n",
    "              epochs=15,\n",
    "              verbose=2,\n",
    "              validation_data=(x_test, x_test),\n",
    "              callbacks=[TB_callback])"
   ]
  },
  {
   "cell_type": "code",
   "execution_count": 6,
   "metadata": {
    "collapsed": false
   },
   "outputs": [],
   "source": [
    "num_pred = 16\n",
    "\n",
    "# equivalent to predicted_imgs = autoencoder.predict(x_test[:num_pred]) \n",
    "latent_reprs = encoder.predict(x_test[:num_pred])\n",
    "mus, log_vars = mu_log_var_model.predict(latent_reprs)\n",
    "sampled_latent_reprs = sampling_model.predict([mus, log_vars])\n",
    "predicted_imgs = decoder.predict(sampled_latent_reprs)"
   ]
  },
  {
   "cell_type": "code",
   "execution_count": 7,
   "metadata": {
    "collapsed": false
   },
   "outputs": [
    {
     "data": {
      "text/plain": [
       "array([0.        , 0.50983226, 1.5901856 , 0.        , 0.        ,\n",
       "       0.14029723, 0.1314072 , 1.5952971 , 0.39339286, 0.0873443 ,\n",
       "       0.1300237 , 0.        , 0.53269625, 0.        , 0.42714423,\n",
       "       0.        ], dtype=float32)"
      ]
     },
     "execution_count": 7,
     "metadata": {},
     "output_type": "execute_result"
    }
   ],
   "source": [
    "latent_reprs[7]"
   ]
  },
  {
   "cell_type": "code",
   "execution_count": 8,
   "metadata": {
    "collapsed": false
   },
   "outputs": [
    {
     "data": {
      "text/plain": [
       "array([-0.07000491,  0.67078775, -0.3383637 , -0.00276756, -0.05830926,\n",
       "        0.05295124, -0.0335152 ,  0.05234498,  0.8297816 ,  0.0061777 ,\n",
       "       -0.01516721, -0.04400246,  0.06300022,  0.23145385, -0.13699149,\n",
       "       -0.03777112], dtype=float32)"
      ]
     },
     "execution_count": 8,
     "metadata": {},
     "output_type": "execute_result"
    }
   ],
   "source": [
    "mus[7]"
   ]
  },
  {
   "cell_type": "code",
   "execution_count": 9,
   "metadata": {
    "collapsed": false
   },
   "outputs": [
    {
     "data": {
      "text/plain": [
       "array([0.98607975, 0.34241658, 0.06892203, 0.9670805 , 0.9249605 ,\n",
       "       0.9386259 , 0.9906203 , 0.94775516, 0.13678405, 0.98770463,\n",
       "       0.9771924 , 0.9552676 , 0.93187344, 0.1273442 , 0.9178532 ,\n",
       "       0.96932316], dtype=float32)"
      ]
     },
     "execution_count": 9,
     "metadata": {},
     "output_type": "execute_result"
    }
   ],
   "source": [
    "np.exp(log_vars[7])"
   ]
  },
  {
   "cell_type": "code",
   "execution_count": 10,
   "metadata": {
    "collapsed": false
   },
   "outputs": [
    {
     "name": "stdout",
     "output_type": "stream",
     "text": [
      "Original Images\n"
     ]
    },
    {
     "data": {
      "image/png": "[encoded data removed]",
      "text/plain": [
       "<Figure size 288x288 with 1 Axes>"
      ]
     },
     "metadata": {
      "needs_background": "light"
     },
     "output_type": "display_data"
    },
    {
     "name": "stdout",
     "output_type": "stream",
     "text": [
      "Reconstructed Images\n"
     ]
    },
    {
     "data": {
      "image/png": "[encoded data removed]",
      "text/plain": [
       "<Figure size 288x288 with 1 Axes>"
      ]
     },
     "metadata": {
      "needs_background": "light"
     },
     "output_type": "display_data"
    }
   ],
   "source": [
    "n = int(np.ceil(np.sqrt(num_pred)))\n",
    "canvas_orig = []\n",
    "canvas_recon = []\n",
    "canvas_noisy = []\n",
    "for i in range(n):\n",
    "    # Display original images\n",
    "    canvas_orig.append(np.concatenate((x_test[i*4:(i+1)*4])))\n",
    "    # Display reconstructed images\n",
    "    canvas_recon.append(np.concatenate((predicted_imgs[i*4:(i+1)*4])))\n",
    "\n",
    "print(\"Original Images\")\n",
    "plt.figure(figsize=(n, n))\n",
    "plt.imshow(np.concatenate(canvas_orig, axis=1), origin=\"upper\", cmap=\"gray\")\n",
    "plt.show()\n",
    "\n",
    "print(\"Reconstructed Images\")\n",
    "plt.figure(figsize=(n, n))\n",
    "plt.imshow(np.concatenate(canvas_recon, axis=1), origin=\"upper\", cmap=\"gray\")\n",
    "plt.show()"
   ]
  },
  {
   "cell_type": "code",
   "execution_count": null,
   "metadata": {
    "collapsed": true
   },
   "outputs": [],
   "source": []
  }
 ],
 "metadata": {
  "kernelspec": {
   "display_name": "TF_1.11_GPU_Python3",
   "language": "python",
   "name": "tf_1.11_gpu_python3"
  },
  "language_info": {
   "codemirror_mode": {
    "name": "ipython",
    "version": 3
   },
   "file_extension": ".py",
   "mimetype": "text/x-python",
   "name": "python",
   "nbconvert_exporter": "python",
   "pygments_lexer": "ipython3",
   "version": "3.6.7"
  }
 },
 "nbformat": 4,
 "nbformat_minor": 2
}
