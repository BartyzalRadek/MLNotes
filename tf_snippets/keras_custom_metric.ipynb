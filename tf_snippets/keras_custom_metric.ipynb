{
 "cells": [
  {
   "cell_type": "code",
   "execution_count": 1,
   "metadata": {
    "collapsed": false
   },
   "outputs": [
    {
     "name": "stdout",
     "output_type": "stream",
     "text": [
      "TF version =  1.11.0\n",
      "Keras version =  2.1.6-tf\n",
      "Keras backend =  tensorflow\n",
      "Default float type =  float32\n",
      "Image data structure =  channels_last\n"
     ]
    }
   ],
   "source": [
    "%matplotlib inline\n",
    "import matplotlib.pyplot as plt\n",
    "import numpy as np\n",
    "import tensorflow as tf\n",
    "import tensorflow.keras as keras\n",
    "from tensorflow.keras import layers\n",
    "from tensorflow.keras.datasets import mnist\n",
    "from tensorflow.keras.models import Model\n",
    "from datetime import datetime\n",
    "\n",
    "print(\"TF version = \", tf.VERSION)\n",
    "print(\"Keras version = \",keras.__version__)\n",
    "print(\"Keras backend = \", keras.backend.backend())\n",
    "print(\"Default float type = \", keras.backend.floatx())\n",
    "print(\"Image data structure = \", keras.backend.image_data_format())\n",
    "\n",
    "def get_config_proto():\n",
    "    config = tf.ConfigProto(allow_soft_placement=True, log_device_placement=True)\n",
    "    config.gpu_options.allow_growth = True\n",
    "    return config\n",
    "\n",
    "def set_session_config(config):\n",
    "    sess = tf.Session(config=config)\n",
    "    keras.backend.set_session(sess)\n",
    "    \n",
    "set_session_config(get_config_proto())"
   ]
  },
  {
   "cell_type": "code",
   "execution_count": 2,
   "metadata": {
    "collapsed": false
   },
   "outputs": [],
   "source": [
    "# the data, shuffled and split between train and test sets\n",
    "(x_train, y_train), (x_test, y_test) = mnist.load_data()\n",
    "\n",
    "# Turn ints to floats and Normalize values to <0,1>\n",
    "x_train = x_train/255.0\n",
    "x_test = x_test/255.0"
   ]
  },
  {
   "cell_type": "code",
   "execution_count": 3,
   "metadata": {
    "collapsed": false
   },
   "outputs": [
    {
     "name": "stdout",
     "output_type": "stream",
     "text": [
      "x_train.shape (60000, 28, 28)\n",
      "y_train.shape=(60000,) y_train[:5]=[5 0 4 1 9]\n"
     ]
    }
   ],
   "source": [
    "print('x_train.shape', x_train.shape)\n",
    "print('y_train.shape={} y_train[:5]={}'.format(y_train.shape, y_train[:5]))"
   ]
  },
  {
   "cell_type": "markdown",
   "metadata": {},
   "source": [
    "### Build encoder and decoder\n",
    "\n",
    "Using variable scopes leads to nicer grouping in Tensorboard graph, but is unnecessary if you name Models."
   ]
  },
  {
   "cell_type": "code",
   "execution_count": 4,
   "metadata": {
    "collapsed": false
   },
   "outputs": [],
   "source": [
    "LATENT_DIM = 16\n",
    "IMG_SHAPE = (28, 28)\n",
    "NOISE_RATIO = 0.1\n",
    "\n",
    "def build_encoder():\n",
    "    #with tf.variable_scope('encoder'):\n",
    "    input_img = layers.Input(shape=IMG_SHAPE, name='encoder_input')\n",
    "    noisy_img = layers.GaussianNoise(stddev=NOISE_RATIO, name='noisy_input')(input_img)\n",
    "    flattened = layers.Flatten()(noisy_img)\n",
    "    fc1 = layers.Dense(LATENT_DIM*4, activation=keras.activations.relu, name='fc_1')(flattened)\n",
    "    fc2 = layers.Dense(LATENT_DIM*2, activation=keras.activations.relu, name='fc_2')(fc1)\n",
    "    latent_repr = layers.Dense(LATENT_DIM, activation=keras.activations.relu, name='latent_repr')(fc2)\n",
    "    return Model(input_img, latent_repr, name='encoder')\n",
    "\n",
    "def build_decoder():\n",
    "    #with tf.variable_scope('decoder'):\n",
    "    latent_repr = layers.Input(shape=(LATENT_DIM, ), name='latent_repr_input')\n",
    "    x = layers.Dense(LATENT_DIM*2, activation=keras.activations.relu, name='fc_1')(latent_repr)\n",
    "    x = layers.Dense(LATENT_DIM*4, activation=keras.activations.relu, name='fc_2')(x)\n",
    "    x = layers.Dense(np.prod(IMG_SHAPE), activation=keras.activations.relu, name='fc_3')(x)\n",
    "    output_img = layers.Reshape(IMG_SHAPE)(x)\n",
    "    return Model(latent_repr, output_img, name='decoder')"
   ]
  },
  {
   "cell_type": "markdown",
   "metadata": {},
   "source": [
    "### Custom metrics and callback\n",
    "\n",
    " - Metrics are calculated and passed to callbacks as `logs` dictionary\n",
    " - Metrics not included in `stateful_metrics` will be averaged at epoch end by `BaseLogger`\n",
    " - name of the metric method = `avg_latent_repr` = new metric name\n",
    " - if you want to evaluate tensors during training, you must pass them as metrics!\n",
    "   - metrics must return only a single number\n",
    "   - tensorboard callback will automatically plot all the metrics passed to model.compile()\n",
    " - known numbers as e.g. LR in a custom LR schedule function can be plotted by TensorBoard callback by adding it to logs in **any** callback\n",
    " - TensorBoard callback will plot averages of metrics over the `update_freq` = if update_freq=50, it will plot a number each 50 batches and the number will be an average over these 50 batches from `on_batch_end` `logs`\n",
    " - `on_batch_end` logs are different from `on_epoch_end` logs - they will be plotted in different plots by TensorBoard Callback"
   ]
  },
  {
   "cell_type": "code",
   "execution_count": 5,
   "metadata": {
    "collapsed": false
   },
   "outputs": [],
   "source": [
    "encoder = build_encoder()\n",
    "decoder = build_decoder()\n",
    "\n",
    "input_img = layers.Input(shape=IMG_SHAPE, name='input_img')\n",
    "latent_repr = encoder(input_img)\n",
    "output_img = decoder(latent_repr)\n",
    "\n",
    "autoencoder = Model(input_img, output_img, name='autoencoder')\n",
    "\n",
    "LOG_DIR = './tf_logs/' + datetime.now().strftime(\"%Y%m%d-%H%M%S\")\n",
    "#file_writer = tf.summary.FileWriter(LOG_DIR + \"/metrics\")\n",
    "\n",
    "def avg_weight_metric():\n",
    "    def avg_latent_repr(y_true, y_pred):\n",
    "        return tf.reduce_mean(latent_repr)\n",
    "        # This will throw: You must feed a value for placeholder tensor 'encoder_input' with dtype float and shape [?,28,28]\n",
    "        #return tf.reduce_mean(autoencoder.get_layer('encoder').get_layer('latent_repr').output)\n",
    "    return avg_latent_repr\n",
    "\n",
    "class Custom_Callback(keras.callbacks.Callback):    \n",
    "    def on_train_begin(self, logs={}):\n",
    "        self._data = {'custom_metric':[]}\n",
    "        self.global_step = 0\n",
    "        \n",
    "    def on_batch_end(self, batch, logs={}):\n",
    "        self.global_step += 1\n",
    "        # batch logs are different from epoch logs - they will be plotted in different plots by TensorBoard Callback\n",
    "        logs['custom_metric'] = np.float32(self.global_step * 0.5) # just an example of a known number\n",
    "        self._data['custom_metric'].append(logs['custom_metric'])\n",
    "\n",
    "    def on_epoch_end(self, epoch, logs={}):\n",
    "        # epoch indexed from 0\n",
    "        # logs = dict of metrics and their values = will be in History object.\n",
    "        \n",
    "        # requires feeding the data\n",
    "        # logs['custom_metric'] = keras.backend.eval(tf.reduce_mean(latent_repr))\n",
    "        \n",
    "        print('callback epoch:', epoch)\n",
    "        print('callback logs:', logs)\n",
    "        # this will plot global number of batches through epochs to plot: epoch_custom_metric\n",
    "        logs['custom_metric'] = np.float32(self.global_step) # just an example of a known number\n",
    "\n",
    "    def get_data(self):\n",
    "        return self._data\n",
    "    \n",
    "class CustomTBCallback(keras.callbacks.TensorBoard):\n",
    "    # just adding update_freq - its already done in TF 1.13+\n",
    "    def __init__(self, update_freq='epoch', **kw):\n",
    "        super(CustomTBCallback, self).__init__(**kw)\n",
    "        if update_freq == 'batch':\n",
    "            self.update_freq = 1\n",
    "        else:\n",
    "            self.update_freq = update_freq\n",
    "    \n",
    "    def on_batch_end(self, batch, logs=None):\n",
    "        if self.update_freq != 'epoch' and batch % self.update_freq == 0:\n",
    "            super(CustomTBCallback, self).on_batch_end(batch, logs)\n",
    "            #print('Updated TensorBoard on batch ', batch)\n",
    "        \n",
    "\n",
    "autoencoder.compile(loss=['mse'], metrics=['acc', avg_weight_metric()], optimizer=keras.optimizers.Adam(0.002))"
   ]
  },
  {
   "cell_type": "code",
   "execution_count": 6,
   "metadata": {
    "collapsed": false
   },
   "outputs": [
    {
     "data": {
      "text/plain": [
       "<tf.Tensor 'encoder/latent_repr/Relu:0' shape=(?, 16) dtype=float32>"
      ]
     },
     "execution_count": 6,
     "metadata": {},
     "output_type": "execute_result"
    }
   ],
   "source": [
    "latent_repr"
   ]
  },
  {
   "cell_type": "code",
   "execution_count": 7,
   "metadata": {
    "collapsed": false
   },
   "outputs": [
    {
     "data": {
      "text/plain": [
       "<tf.Tensor 'latent_repr/Relu:0' shape=(?, 16) dtype=float32>"
      ]
     },
     "execution_count": 7,
     "metadata": {},
     "output_type": "execute_result"
    }
   ],
   "source": [
    "autoencoder.get_layer('encoder').get_layer('latent_repr').output"
   ]
  },
  {
   "cell_type": "code",
   "execution_count": 8,
   "metadata": {
    "collapsed": false
   },
   "outputs": [
    {
     "data": {
      "text/plain": [
       "<tf.Tensor 'latent_repr/Relu:0' shape=(?, 16) dtype=float32>"
      ]
     },
     "execution_count": 8,
     "metadata": {},
     "output_type": "execute_result"
    }
   ],
   "source": [
    "encoder.get_layer('latent_repr').output"
   ]
  },
  {
   "cell_type": "code",
   "execution_count": 9,
   "metadata": {
    "collapsed": false
   },
   "outputs": [
    {
     "name": "stdout",
     "output_type": "stream",
     "text": [
      "_________________________________________________________________\n",
      "Layer (type)                 Output Shape              Param #   \n",
      "=================================================================\n",
      "input_img (InputLayer)       (None, 28, 28)            0         \n",
      "_________________________________________________________________\n",
      "encoder (Model)              (None, 16)                52848     \n",
      "_________________________________________________________________\n",
      "decoder (Model)              (None, 28, 28)            53616     \n",
      "=================================================================\n",
      "Total params: 106,464\n",
      "Trainable params: 106,464\n",
      "Non-trainable params: 0\n",
      "_________________________________________________________________\n"
     ]
    }
   ],
   "source": [
    "autoencoder.summary()"
   ]
  },
  {
   "cell_type": "code",
   "execution_count": 10,
   "metadata": {
    "collapsed": false,
    "scrolled": true
   },
   "outputs": [
    {
     "name": "stdout",
     "output_type": "stream",
     "text": [
      "Train on 60000 samples, validate on 10000 samples\n",
      "Epoch 1/10\n",
      "callback epoch: 0\n",
      "callback logs: {'val_loss': 0.030117464116215707, 'val_acc': 0.4560607139110565, 'val_avg_latent_repr': 2.6187257667541504, 'loss': 0.0409499473631382, 'acc': 0.39326369064648947, 'avg_latent_repr': 1.816442335510254}\n",
      " - 4s - loss: 0.0409 - acc: 0.3933 - avg_latent_repr: 1.8164 - val_loss: 0.0301 - val_acc: 0.4561 - val_avg_latent_repr: 2.6187\n",
      "Epoch 2/10\n",
      "callback epoch: 1\n",
      "callback logs: {'val_loss': 0.026892438167333603, 'val_acc': 0.4721642864704132, 'val_avg_latent_repr': 2.9918492515563964, 'loss': 0.028858626795808473, 'acc': 0.4682767851670583, 'avg_latent_repr': 2.809181225967407}\n",
      " - 4s - loss: 0.0289 - acc: 0.4683 - avg_latent_repr: 2.8092 - val_loss: 0.0269 - val_acc: 0.4722 - val_avg_latent_repr: 2.9918\n",
      "Epoch 3/10\n",
      "callback epoch: 2\n",
      "callback logs: {'val_loss': 0.026131403881311417, 'val_acc': 0.4841714301109314, 'val_avg_latent_repr': 3.06854147567749, 'loss': 0.027045044912894566, 'acc': 0.4803285711924235, 'avg_latent_repr': 2.9909265167236327}\n",
      " - 3s - loss: 0.0270 - acc: 0.4803 - avg_latent_repr: 2.9909 - val_loss: 0.0261 - val_acc: 0.4842 - val_avg_latent_repr: 3.0685\n",
      "Epoch 4/10\n",
      "callback epoch: 3\n",
      "callback logs: {'val_loss': 0.02536939949095249, 'val_acc': 0.48989999947547913, 'val_avg_latent_repr': 3.1393947151184083, 'loss': 0.026206885204712548, 'acc': 0.4863154762585958, 'avg_latent_repr': 3.0213468592325845}\n",
      " - 3s - loss: 0.0262 - acc: 0.4863 - avg_latent_repr: 3.0213 - val_loss: 0.0254 - val_acc: 0.4899 - val_avg_latent_repr: 3.1394\n",
      "Epoch 5/10\n",
      "callback epoch: 4\n",
      "callback logs: {'val_loss': 0.02466437313556671, 'val_acc': 0.4887785719394684, 'val_avg_latent_repr': 3.050072703552246, 'loss': 0.02553990600903829, 'acc': 0.4913708330631256, 'avg_latent_repr': 3.039874372990926}\n",
      " - 3s - loss: 0.0255 - acc: 0.4914 - avg_latent_repr: 3.0399 - val_loss: 0.0247 - val_acc: 0.4888 - val_avg_latent_repr: 3.0501\n",
      "Epoch 6/10\n",
      "callback epoch: 5\n",
      "callback logs: {'val_loss': 0.02357114561200142, 'val_acc': 0.4973035710334778, 'val_avg_latent_repr': 3.12744204826355, 'loss': 0.02469396566649278, 'acc': 0.49461726137797035, 'avg_latent_repr': 3.0382536940256752}\n",
      " - 3s - loss: 0.0247 - acc: 0.4946 - avg_latent_repr: 3.0383 - val_loss: 0.0236 - val_acc: 0.4973 - val_avg_latent_repr: 3.1274\n",
      "Epoch 7/10\n",
      "callback epoch: 6\n",
      "callback logs: {'val_loss': 0.022861930972337723, 'val_acc': 0.4999071427345276, 'val_avg_latent_repr': 3.188788886642456, 'loss': 0.023810076943039896, 'acc': 0.4990970231056213, 'avg_latent_repr': 3.1506741179148356}\n",
      " - 3s - loss: 0.0238 - acc: 0.4991 - avg_latent_repr: 3.1507 - val_loss: 0.0229 - val_acc: 0.4999 - val_avg_latent_repr: 3.1888\n",
      "Epoch 8/10\n",
      "callback epoch: 7\n",
      "callback logs: {'val_loss': 0.022320222038030624, 'val_acc': 0.4996035704135895, 'val_avg_latent_repr': 3.237862181854248, 'loss': 0.02322902404665947, 'acc': 0.5025291647275288, 'avg_latent_repr': 3.166924765523275}\n",
      " - 3s - loss: 0.0232 - acc: 0.5025 - avg_latent_repr: 3.1669 - val_loss: 0.0223 - val_acc: 0.4996 - val_avg_latent_repr: 3.2379\n",
      "Epoch 9/10\n",
      "callback epoch: 8\n",
      "callback logs: {'val_loss': 0.022137831696867942, 'val_acc': 0.504717857503891, 'val_avg_latent_repr': 3.217149889755249, 'loss': 0.022898305096228918, 'acc': 0.5039886906305949, 'avg_latent_repr': 3.1514507409413657}\n",
      " - 3s - loss: 0.0229 - acc: 0.5040 - avg_latent_repr: 3.1515 - val_loss: 0.0221 - val_acc: 0.5047 - val_avg_latent_repr: 3.2171\n",
      "Epoch 10/10\n",
      "callback epoch: 9\n",
      "callback logs: {'val_loss': 0.021957233008742333, 'val_acc': 0.5060964282989502, 'val_avg_latent_repr': 3.157138892364502, 'loss': 0.0226499867806832, 'acc': 0.5059434524536133, 'avg_latent_repr': 3.124614651997884}\n",
      " - 3s - loss: 0.0226 - acc: 0.5059 - avg_latent_repr: 3.1246 - val_loss: 0.0220 - val_acc: 0.5061 - val_avg_latent_repr: 3.1571\n"
     ]
    }
   ],
   "source": [
    "TB_callback = CustomTBCallback(log_dir=LOG_DIR, write_graph=True, update_freq=50)\n",
    "metrics_cb = Custom_Callback()\n",
    "\n",
    "history = autoencoder.fit(x_train, x_train,\n",
    "              batch_size=128,\n",
    "              epochs=10,\n",
    "              verbose=2,\n",
    "              validation_data=(x_test, x_test),\n",
    "              callbacks=[metrics_cb, TB_callback]\n",
    "                   )"
   ]
  },
  {
   "cell_type": "code",
   "execution_count": 11,
   "metadata": {
    "collapsed": false
   },
   "outputs": [
    {
     "data": {
      "text/plain": [
       "dict_keys(['val_loss', 'val_acc', 'val_avg_latent_repr', 'loss', 'acc', 'avg_latent_repr', 'custom_metric'])"
      ]
     },
     "execution_count": 11,
     "metadata": {},
     "output_type": "execute_result"
    }
   ],
   "source": [
    "# These are the epoch logs only - the metrics passed to model.compile() are calculated each batch and then\n",
    "# averaged to get the epoch value stored in history\n",
    "history.history.keys()"
   ]
  },
  {
   "cell_type": "code",
   "execution_count": 14,
   "metadata": {
    "collapsed": false
   },
   "outputs": [
    {
     "data": {
      "text/plain": [
       "[0.5, 1.0, 1.5, 2.0, 2.5, 3.0, 3.5, 4.0, 4.5, 5.0, 5.5, 6.0, 6.5, 7.0, 7.5]"
      ]
     },
     "execution_count": 14,
     "metadata": {},
     "output_type": "execute_result"
    }
   ],
   "source": [
    "metrics_cb.get_data()['custom_metric'][:15]"
   ]
  },
  {
   "cell_type": "code",
   "execution_count": 15,
   "metadata": {
    "collapsed": true
   },
   "outputs": [],
   "source": [
    "num_pred = 16\n",
    "predicted_imgs = autoencoder.predict(x_test[:num_pred]) "
   ]
  },
  {
   "cell_type": "code",
   "execution_count": 17,
   "metadata": {
    "collapsed": false
   },
   "outputs": [],
   "source": [
    "# equivalent to predicted_imgs = autoencoder.predict(x_test[:num_pred]) \n",
    "latent_reprs = encoder.predict(x_test[:num_pred])\n",
    "predicted_imgs2 = decoder.predict(latent_reprs)\n",
    "\n",
    "assert np.allclose(predicted_imgs, predicted_imgs2)"
   ]
  },
  {
   "cell_type": "code",
   "execution_count": 18,
   "metadata": {
    "collapsed": false
   },
   "outputs": [
    {
     "data": {
      "text/plain": [
       "array([0.       , 0.       , 3.5976708, 4.61082  , 3.9677374, 7.2461915,\n",
       "       0.       , 3.0952578, 2.174544 , 1.486566 , 2.800192 , 0.       ,\n",
       "       2.745033 , 2.1467686, 2.8717568, 3.4889765], dtype=float32)"
      ]
     },
     "execution_count": 18,
     "metadata": {},
     "output_type": "execute_result"
    }
   ],
   "source": [
    "latent_reprs[0]"
   ]
  },
  {
   "cell_type": "code",
   "execution_count": 19,
   "metadata": {
    "collapsed": false
   },
   "outputs": [
    {
     "name": "stdout",
     "output_type": "stream",
     "text": [
      "Original Images\n"
     ]
    },
    {
     "data": {
      "image/png": "[encoded data removed]",
      "text/plain": [
       "<Figure size 288x288 with 1 Axes>"
      ]
     },
     "metadata": {
      "needs_background": "light"
     },
     "output_type": "display_data"
    },
    {
     "name": "stdout",
     "output_type": "stream",
     "text": [
      "Noisy input image\n"
     ]
    },
    {
     "data": {
      "image/png": "[encoded data removed]",
      "text/plain": [
       "<Figure size 288x288 with 1 Axes>"
      ]
     },
     "metadata": {
      "needs_background": "light"
     },
     "output_type": "display_data"
    },
    {
     "name": "stdout",
     "output_type": "stream",
     "text": [
      "Reconstructed Images\n"
     ]
    },
    {
     "data": {
      "image/png": "[encoded data removed]",
      "text/plain": [
       "<Figure size 288x288 with 1 Axes>"
      ]
     },
     "metadata": {
      "needs_background": "light"
     },
     "output_type": "display_data"
    }
   ],
   "source": [
    "n = int(np.ceil(np.sqrt(num_pred)))\n",
    "canvas_orig = []\n",
    "canvas_recon = []\n",
    "canvas_noisy = []\n",
    "for i in range(n):\n",
    "    # Display noisy input images\n",
    "    canvas_noisy.append(np.concatenate((x_test[i*4:(i+1)*4] + np.random.normal(scale=NOISE_RATIO, size=IMG_SHAPE))))\n",
    "    # Display original images\n",
    "    canvas_orig.append(np.concatenate((x_test[i*4:(i+1)*4])))\n",
    "    # Display reconstructed images\n",
    "    canvas_recon.append(np.concatenate((predicted_imgs[i*4:(i+1)*4])))\n",
    "\n",
    "print(\"Original Images\")\n",
    "plt.figure(figsize=(n, n))\n",
    "plt.imshow(np.concatenate(canvas_orig, axis=1), origin=\"upper\", cmap=\"gray\")\n",
    "plt.show()\n",
    "    \n",
    "print(\"Noisy input image\")\n",
    "plt.figure(figsize=(n, n))\n",
    "plt.imshow(np.concatenate(canvas_noisy, axis=1), origin=\"upper\", cmap=\"gray\")\n",
    "plt.show()\n",
    "\n",
    "print(\"Reconstructed Images\")\n",
    "plt.figure(figsize=(n, n))\n",
    "plt.imshow(np.concatenate(canvas_recon, axis=1), origin=\"upper\", cmap=\"gray\")\n",
    "plt.show()"
   ]
  },
  {
   "cell_type": "code",
   "execution_count": null,
   "metadata": {
    "collapsed": true
   },
   "outputs": [],
   "source": []
  }
 ],
 "metadata": {
  "kernelspec": {
   "display_name": "TF_1.11_GPU_Python3",
   "language": "python",
   "name": "tf_1.11_gpu_python3"
  },
  "language_info": {
   "codemirror_mode": {
    "name": "ipython",
    "version": 3
   },
   "file_extension": ".py",
   "mimetype": "text/x-python",
   "name": "python",
   "nbconvert_exporter": "python",
   "pygments_lexer": "ipython3",
   "version": "3.6.7"
  }
 },
 "nbformat": 4,
 "nbformat_minor": 2
}
