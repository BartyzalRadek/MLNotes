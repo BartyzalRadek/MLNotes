{
 "cells": [
  {
   "cell_type": "code",
   "execution_count": 1,
   "metadata": {
    "collapsed": false
   },
   "outputs": [
    {
     "name": "stdout",
     "output_type": "stream",
     "text": [
      "TF version =  1.11.0\n",
      "Keras version =  2.1.6-tf\n",
      "Keras backend =  tensorflow\n",
      "Default float type =  float32\n",
      "Image data structure =  channels_last\n"
     ]
    }
   ],
   "source": [
    "%matplotlib inline\n",
    "import matplotlib.pyplot as plt\n",
    "import numpy as np\n",
    "import tensorflow as tf\n",
    "import tensorflow.keras as keras\n",
    "from tensorflow.keras import layers\n",
    "from tensorflow.keras.datasets import mnist\n",
    "from tensorflow.keras.models import Model\n",
    "\n",
    "print(\"TF version = \", tf.VERSION)\n",
    "print(\"Keras version = \",keras.__version__)\n",
    "print(\"Keras backend = \", keras.backend.backend())\n",
    "print(\"Default float type = \", keras.backend.floatx())\n",
    "print(\"Image data structure = \", keras.backend.image_data_format())\n",
    "\n",
    "def get_config_proto():\n",
    "    config = tf.ConfigProto(allow_soft_placement=True, log_device_placement=True)\n",
    "    config.gpu_options.allow_growth = True\n",
    "    return config\n",
    "\n",
    "def set_session_config(config):\n",
    "    sess = tf.Session(config=config)\n",
    "    keras.backend.set_session(sess)\n",
    "    \n",
    "set_session_config(get_config_proto())"
   ]
  },
  {
   "cell_type": "code",
   "execution_count": 2,
   "metadata": {
    "collapsed": false
   },
   "outputs": [],
   "source": [
    "# the data, shuffled and split between train and test sets\n",
    "(x_train, y_train), (x_test, y_test) = mnist.load_data()\n",
    "\n",
    "# Turn ints to floats and Normalize values to <0,1>\n",
    "x_train = x_train/255.0\n",
    "x_test = x_test/255.0"
   ]
  },
  {
   "cell_type": "code",
   "execution_count": 3,
   "metadata": {
    "collapsed": false
   },
   "outputs": [
    {
     "name": "stdout",
     "output_type": "stream",
     "text": [
      "x_train.shape (60000, 28, 28)\n",
      "y_train.shape=(60000,) y_train[:5]=[5 0 4 1 9]\n"
     ]
    }
   ],
   "source": [
    "print('x_train.shape', x_train.shape)\n",
    "print('y_train.shape={} y_train[:5]={}'.format(y_train.shape, y_train[:5]))"
   ]
  },
  {
   "cell_type": "markdown",
   "metadata": {},
   "source": [
    "### Build encoder and decoder\n",
    "\n",
    "Using variable scopes leads to nicer grouping in Tensorboard graph, but is unnecessary if you name Models."
   ]
  },
  {
   "cell_type": "code",
   "execution_count": 4,
   "metadata": {
    "collapsed": false
   },
   "outputs": [],
   "source": [
    "LATENT_DIM = 16\n",
    "IMG_SHAPE = (28, 28)\n",
    "NOISE_RATIO = 0.1\n",
    "\n",
    "def build_encoder():\n",
    "    #with tf.variable_scope('encoder'):\n",
    "    input_img = layers.Input(shape=IMG_SHAPE, name='encoder_input')\n",
    "    noisy_img = layers.GaussianNoise(stddev=NOISE_RATIO, name='noisy_input')(input_img)\n",
    "    flattened = layers.Flatten()(noisy_img)\n",
    "    fc1 = layers.Dense(LATENT_DIM*4, activation=keras.activations.relu, name='fc_1')(flattened)\n",
    "    fc2 = layers.Dense(LATENT_DIM*2, activation=keras.activations.relu, name='fc_2')(fc1)\n",
    "    latent_repr = layers.Dense(LATENT_DIM, activation=keras.activations.relu, name='latent_repr')(fc2)\n",
    "    return Model(input_img, latent_repr, name='encoder')\n",
    "\n",
    "def build_decoder():\n",
    "    #with tf.variable_scope('decoder'):\n",
    "    latent_repr = layers.Input(shape=(LATENT_DIM, ), name='latent_repr_input')\n",
    "    x = layers.Dense(LATENT_DIM*2, activation=keras.activations.relu, name='fc_1')(latent_repr)\n",
    "    x = layers.Dense(LATENT_DIM*4, activation=keras.activations.relu, name='fc_2')(x)\n",
    "    x = layers.Dense(np.prod(IMG_SHAPE), activation=keras.activations.relu, name='fc_3')(x)\n",
    "    output_img = layers.Reshape(IMG_SHAPE)(x)\n",
    "    return Model(latent_repr, output_img, name='decoder')"
   ]
  },
  {
   "cell_type": "markdown",
   "metadata": {},
   "source": [
    "### Custom metrics and callback\n",
    "\n",
    " - Metrics are calculated and passed to callbacks as `logs` dictionary\n",
    " - Metrics not included in `stateful_metrics` will be averaged at epoch end by `BaseLogger`\n",
    " - name of the metric method = `avg_latent_repr` = new metric name"
   ]
  },
  {
   "cell_type": "code",
   "execution_count": 5,
   "metadata": {
    "collapsed": false
   },
   "outputs": [],
   "source": [
    "encoder = build_encoder()\n",
    "decoder = build_decoder()\n",
    "\n",
    "input_img = layers.Input(shape=IMG_SHAPE, name='input_img')\n",
    "latent_repr = encoder(input_img)\n",
    "output_img = decoder(latent_repr)\n",
    "\n",
    "autoencoder = Model(input_img, output_img, name='autoencoder')\n",
    "\n",
    "def avg_weight_metric():\n",
    "    def avg_latent_repr(y_true, y_pred):\n",
    "        return tf.reduce_mean(latent_repr)\n",
    "        # This will throw: You must feed a value for placeholder tensor 'encoder_input' with dtype float and shape [?,28,28]\n",
    "        #return tf.reduce_mean(autoencoder.get_layer('encoder').get_layer('latent_repr').output)\n",
    "    return avg_latent_repr\n",
    "\n",
    "class Custom_Callback(keras.callbacks.Callback):    \n",
    "    def on_train_begin(self, logs={}):\n",
    "        self._data = {'custom_metric':[]}\n",
    "\n",
    "    def on_epoch_end(self, epoch, logs={}):\n",
    "        # epoch indexed from 0\n",
    "        # logs = dict of metrics and their values = will be in History object.\n",
    "        print('epoch:', epoch)\n",
    "        \n",
    "        # Here it works = after the model is compiled I can access its layer outputs during training\n",
    "        avg_output = tf.reduce_mean(self.model.get_layer('encoder').get_layer('latent_repr').output)\n",
    "        self._data['custom_metric'].append(avg_output)\n",
    "        return\n",
    "\n",
    "    def get_data(self):\n",
    "        return self._data\n",
    "    \n",
    "class CustomTBCallback(keras.callbacks.TensorBoard):\n",
    "    def __init__(self, update_freq='epoch', **kw):\n",
    "        super(CustomTBCallback, self).__init__(**kw)\n",
    "        if update_freq == 'batch':\n",
    "            self.update_freq = 1\n",
    "        else:\n",
    "            self.update_freq = update_freq\n",
    "    \n",
    "    def on_batch_end(self, batch, logs=None):\n",
    "        if self.update_freq != 'epoch' and batch % self.update_freq == 0:\n",
    "            super(CustomTBCallback, self).on_batch_end(batch, logs)\n",
    "            #print('Updated TensorBoard on batch ', batch)\n",
    "\n",
    "autoencoder.compile(loss=['mse'], metrics=['acc', avg_weight_metric()], optimizer=keras.optimizers.Adam(0.002))"
   ]
  },
  {
   "cell_type": "code",
   "execution_count": 6,
   "metadata": {
    "collapsed": false
   },
   "outputs": [
    {
     "data": {
      "text/plain": [
       "<tf.Tensor 'encoder/latent_repr/Relu:0' shape=(?, 16) dtype=float32>"
      ]
     },
     "execution_count": 6,
     "metadata": {},
     "output_type": "execute_result"
    }
   ],
   "source": [
    "latent_repr"
   ]
  },
  {
   "cell_type": "code",
   "execution_count": 7,
   "metadata": {
    "collapsed": false
   },
   "outputs": [
    {
     "data": {
      "text/plain": [
       "<tf.Tensor 'latent_repr/Relu:0' shape=(?, 16) dtype=float32>"
      ]
     },
     "execution_count": 7,
     "metadata": {},
     "output_type": "execute_result"
    }
   ],
   "source": [
    "autoencoder.get_layer('encoder').get_layer('latent_repr').output"
   ]
  },
  {
   "cell_type": "code",
   "execution_count": 8,
   "metadata": {
    "collapsed": false
   },
   "outputs": [
    {
     "data": {
      "text/plain": [
       "<tf.Tensor 'latent_repr/Relu:0' shape=(?, 16) dtype=float32>"
      ]
     },
     "execution_count": 8,
     "metadata": {},
     "output_type": "execute_result"
    }
   ],
   "source": [
    "encoder.get_layer('latent_repr').output"
   ]
  },
  {
   "cell_type": "code",
   "execution_count": 9,
   "metadata": {
    "collapsed": false
   },
   "outputs": [
    {
     "name": "stdout",
     "output_type": "stream",
     "text": [
      "_________________________________________________________________\n",
      "Layer (type)                 Output Shape              Param #   \n",
      "=================================================================\n",
      "input_img (InputLayer)       (None, 28, 28)            0         \n",
      "_________________________________________________________________\n",
      "encoder (Model)              (None, 16)                52848     \n",
      "_________________________________________________________________\n",
      "decoder (Model)              (None, 28, 28)            53616     \n",
      "=================================================================\n",
      "Total params: 106,464\n",
      "Trainable params: 106,464\n",
      "Non-trainable params: 0\n",
      "_________________________________________________________________\n"
     ]
    }
   ],
   "source": [
    "autoencoder.summary()"
   ]
  },
  {
   "cell_type": "code",
   "execution_count": 10,
   "metadata": {
    "collapsed": false
   },
   "outputs": [
    {
     "name": "stdout",
     "output_type": "stream",
     "text": [
      "Train on 60000 samples, validate on 10000 samples\n",
      "Epoch 1/10\n",
      "Updated TensorBoard on batch  0\n",
      "Updated TensorBoard on batch  50\n",
      "Updated TensorBoard on batch  100\n",
      "Updated TensorBoard on batch  150\n",
      "Updated TensorBoard on batch  200\n",
      "Updated TensorBoard on batch  250\n",
      "Updated TensorBoard on batch  300\n",
      "Updated TensorBoard on batch  350\n",
      "Updated TensorBoard on batch  400\n",
      "Updated TensorBoard on batch  450\n",
      "epoch: 0\n",
      " - 4s - loss: 0.0425 - acc: 0.3808 - avg_latent_repr: 1.3739 - val_loss: 0.0310 - val_acc: 0.4461 - val_avg_latent_repr: 2.1766\n",
      "Epoch 2/10\n",
      "Updated TensorBoard on batch  0\n",
      "Updated TensorBoard on batch  50\n",
      "Updated TensorBoard on batch  100\n",
      "Updated TensorBoard on batch  150\n",
      "Updated TensorBoard on batch  200\n",
      "Updated TensorBoard on batch  250\n",
      "Updated TensorBoard on batch  300\n",
      "Updated TensorBoard on batch  350\n",
      "Updated TensorBoard on batch  400\n",
      "Updated TensorBoard on batch  450\n",
      "epoch: 1\n",
      " - 4s - loss: 0.0291 - acc: 0.4621 - avg_latent_repr: 2.4575 - val_loss: 0.0265 - val_acc: 0.4696 - val_avg_latent_repr: 2.7566\n",
      "Epoch 3/10\n",
      "Updated TensorBoard on batch  0\n",
      "Updated TensorBoard on batch  50\n",
      "Updated TensorBoard on batch  100\n",
      "Updated TensorBoard on batch  150\n",
      "Updated TensorBoard on batch  200\n",
      "Updated TensorBoard on batch  250\n",
      "Updated TensorBoard on batch  300\n",
      "Updated TensorBoard on batch  350\n",
      "Updated TensorBoard on batch  400\n",
      "Updated TensorBoard on batch  450\n",
      "epoch: 2\n",
      " - 4s - loss: 0.0264 - acc: 0.4772 - avg_latent_repr: 2.7419 - val_loss: 0.0249 - val_acc: 0.4824 - val_avg_latent_repr: 2.8473\n",
      "Epoch 4/10\n",
      "Updated TensorBoard on batch  0\n",
      "Updated TensorBoard on batch  50\n",
      "Updated TensorBoard on batch  100\n",
      "Updated TensorBoard on batch  150\n",
      "Updated TensorBoard on batch  200\n",
      "Updated TensorBoard on batch  250\n",
      "Updated TensorBoard on batch  300\n",
      "Updated TensorBoard on batch  350\n",
      "Updated TensorBoard on batch  400\n",
      "Updated TensorBoard on batch  450\n",
      "epoch: 3\n",
      " - 4s - loss: 0.0250 - acc: 0.4851 - avg_latent_repr: 2.8895 - val_loss: 0.0240 - val_acc: 0.4867 - val_avg_latent_repr: 3.0117\n",
      "Epoch 5/10\n",
      "Updated TensorBoard on batch  0\n",
      "Updated TensorBoard on batch  50\n",
      "Updated TensorBoard on batch  100\n",
      "Updated TensorBoard on batch  150\n",
      "Updated TensorBoard on batch  200\n",
      "Updated TensorBoard on batch  250\n",
      "Updated TensorBoard on batch  300\n",
      "Updated TensorBoard on batch  350\n",
      "Updated TensorBoard on batch  400\n",
      "Updated TensorBoard on batch  450\n",
      "epoch: 4\n",
      " - 3s - loss: 0.0241 - acc: 0.4904 - avg_latent_repr: 2.9644 - val_loss: 0.0230 - val_acc: 0.4899 - val_avg_latent_repr: 3.0061\n",
      "Epoch 6/10\n",
      "Updated TensorBoard on batch  0\n",
      "Updated TensorBoard on batch  50\n",
      "Updated TensorBoard on batch  100\n",
      "Updated TensorBoard on batch  150\n",
      "Updated TensorBoard on batch  200\n",
      "Updated TensorBoard on batch  250\n",
      "Updated TensorBoard on batch  300\n",
      "Updated TensorBoard on batch  350\n",
      "Updated TensorBoard on batch  400\n",
      "Updated TensorBoard on batch  450\n",
      "epoch: 5\n",
      " - 3s - loss: 0.0235 - acc: 0.4938 - avg_latent_repr: 2.9983 - val_loss: 0.0226 - val_acc: 0.4957 - val_avg_latent_repr: 3.0689\n",
      "Epoch 7/10\n",
      "Updated TensorBoard on batch  0\n",
      "Updated TensorBoard on batch  50\n",
      "Updated TensorBoard on batch  100\n",
      "Updated TensorBoard on batch  150\n",
      "Updated TensorBoard on batch  200\n",
      "Updated TensorBoard on batch  250\n",
      "Updated TensorBoard on batch  300\n",
      "Updated TensorBoard on batch  350\n",
      "Updated TensorBoard on batch  400\n",
      "Updated TensorBoard on batch  450\n",
      "epoch: 6\n",
      " - 3s - loss: 0.0231 - acc: 0.4968 - avg_latent_repr: 2.9828 - val_loss: 0.0223 - val_acc: 0.4960 - val_avg_latent_repr: 3.0196\n",
      "Epoch 8/10\n",
      "Updated TensorBoard on batch  0\n",
      "Updated TensorBoard on batch  50\n",
      "Updated TensorBoard on batch  100\n",
      "Updated TensorBoard on batch  150\n",
      "Updated TensorBoard on batch  200\n",
      "Updated TensorBoard on batch  250\n",
      "Updated TensorBoard on batch  300\n",
      "Updated TensorBoard on batch  350\n",
      "Updated TensorBoard on batch  400\n",
      "Updated TensorBoard on batch  450\n",
      "epoch: 7\n",
      " - 3s - loss: 0.0228 - acc: 0.4985 - avg_latent_repr: 2.9718 - val_loss: 0.0221 - val_acc: 0.5008 - val_avg_latent_repr: 2.9790\n",
      "Epoch 9/10\n",
      "Updated TensorBoard on batch  0\n",
      "Updated TensorBoard on batch  50\n",
      "Updated TensorBoard on batch  100\n",
      "Updated TensorBoard on batch  150\n",
      "Updated TensorBoard on batch  200\n",
      "Updated TensorBoard on batch  250\n",
      "Updated TensorBoard on batch  300\n",
      "Updated TensorBoard on batch  350\n",
      "Updated TensorBoard on batch  400\n",
      "Updated TensorBoard on batch  450\n",
      "epoch: 8\n",
      " - 3s - loss: 0.0225 - acc: 0.5011 - avg_latent_repr: 2.9505 - val_loss: 0.0215 - val_acc: 0.5033 - val_avg_latent_repr: 3.0272\n",
      "Epoch 10/10\n",
      "Updated TensorBoard on batch  0\n",
      "Updated TensorBoard on batch  50\n",
      "Updated TensorBoard on batch  100\n",
      "Updated TensorBoard on batch  150\n",
      "Updated TensorBoard on batch  200\n",
      "Updated TensorBoard on batch  250\n",
      "Updated TensorBoard on batch  300\n",
      "Updated TensorBoard on batch  350\n",
      "Updated TensorBoard on batch  400\n",
      "Updated TensorBoard on batch  450\n",
      "epoch: 9\n",
      " - 3s - loss: 0.0220 - acc: 0.5032 - avg_latent_repr: 2.9844 - val_loss: 0.0211 - val_acc: 0.5003 - val_avg_latent_repr: 3.0432\n"
     ]
    }
   ],
   "source": [
    "TB_callback = CustomTBCallback(log_dir='./tf_logs', write_graph=True, update_freq=50)\n",
    "metrics_cb = Custom_Callback()\n",
    "\n",
    "history = autoencoder.fit(x_train, x_train,\n",
    "              batch_size=128,\n",
    "              epochs=10,\n",
    "              verbose=2,\n",
    "              validation_data=(x_test, x_test),\n",
    "              callbacks=[metrics_cb, TB_callback]\n",
    "                   )"
   ]
  },
  {
   "cell_type": "code",
   "execution_count": 11,
   "metadata": {
    "collapsed": false
   },
   "outputs": [
    {
     "data": {
      "text/plain": [
       "dict_keys(['val_loss', 'val_acc', 'val_avg_latent_repr', 'loss', 'acc', 'avg_latent_repr'])"
      ]
     },
     "execution_count": 11,
     "metadata": {},
     "output_type": "execute_result"
    }
   ],
   "source": [
    "history.history.keys()"
   ]
  },
  {
   "cell_type": "code",
   "execution_count": 12,
   "metadata": {
    "collapsed": true
   },
   "outputs": [],
   "source": [
    "num_pred = 16\n",
    "predicted_imgs = autoencoder.predict(x_test[:num_pred]) "
   ]
  },
  {
   "cell_type": "code",
   "execution_count": 13,
   "metadata": {
    "collapsed": false
   },
   "outputs": [],
   "source": [
    "# equivalent to predicted_imgs = autoencoder.predict(x_test[:num_pred]) \n",
    "latent_reprs = encoder.predict(x_test[:num_pred])\n",
    "predicted_imgs = decoder.predict(latent_reprs)"
   ]
  },
  {
   "cell_type": "code",
   "execution_count": 14,
   "metadata": {
    "collapsed": false
   },
   "outputs": [
    {
     "data": {
      "text/plain": [
       "array([4.9653115 , 3.2842224 , 2.3142393 , 0.        , 2.919654  ,\n",
       "       0.        , 3.0169728 , 3.0380952 , 0.        , 2.1455538 ,\n",
       "       0.18556616, 4.1848016 , 5.3739996 , 0.        , 3.9816232 ,\n",
       "       0.55495006], dtype=float32)"
      ]
     },
     "execution_count": 14,
     "metadata": {},
     "output_type": "execute_result"
    }
   ],
   "source": [
    "latent_reprs[0]"
   ]
  },
  {
   "cell_type": "code",
   "execution_count": 15,
   "metadata": {
    "collapsed": false
   },
   "outputs": [
    {
     "name": "stdout",
     "output_type": "stream",
     "text": [
      "Original Images\n"
     ]
    },
    {
     "data": {
      "image/png": "[encoded data removed]",
      "text/plain": [
       "<Figure size 288x288 with 1 Axes>"
      ]
     },
     "metadata": {
      "needs_background": "light"
     },
     "output_type": "display_data"
    },
    {
     "name": "stdout",
     "output_type": "stream",
     "text": [
      "Noisy input image\n"
     ]
    },
    {
     "data": {
      "image/png": "[encoded data removed]",
      "text/plain": [
       "<Figure size 288x288 with 1 Axes>"
      ]
     },
     "metadata": {
      "needs_background": "light"
     },
     "output_type": "display_data"
    },
    {
     "name": "stdout",
     "output_type": "stream",
     "text": [
      "Reconstructed Images\n"
     ]
    },
    {
     "data": {
      "image/png": "[encoded data removed]",
      "text/plain": [
       "<Figure size 288x288 with 1 Axes>"
      ]
     },
     "metadata": {
      "needs_background": "light"
     },
     "output_type": "display_data"
    }
   ],
   "source": [
    "n = int(np.ceil(np.sqrt(num_pred)))\n",
    "canvas_orig = []\n",
    "canvas_recon = []\n",
    "canvas_noisy = []\n",
    "for i in range(n):\n",
    "    # Display noisy input images\n",
    "    canvas_noisy.append(np.concatenate((x_test[i*4:(i+1)*4] + np.random.normal(scale=NOISE_RATIO, size=IMG_SHAPE))))\n",
    "    # Display original images\n",
    "    canvas_orig.append(np.concatenate((x_test[i*4:(i+1)*4])))\n",
    "    # Display reconstructed images\n",
    "    canvas_recon.append(np.concatenate((predicted_imgs[i*4:(i+1)*4])))\n",
    "\n",
    "print(\"Original Images\")\n",
    "plt.figure(figsize=(n, n))\n",
    "plt.imshow(np.concatenate(canvas_orig, axis=1), origin=\"upper\", cmap=\"gray\")\n",
    "plt.show()\n",
    "    \n",
    "print(\"Noisy input image\")\n",
    "plt.figure(figsize=(n, n))\n",
    "plt.imshow(np.concatenate(canvas_noisy, axis=1), origin=\"upper\", cmap=\"gray\")\n",
    "plt.show()\n",
    "\n",
    "print(\"Reconstructed Images\")\n",
    "plt.figure(figsize=(n, n))\n",
    "plt.imshow(np.concatenate(canvas_recon, axis=1), origin=\"upper\", cmap=\"gray\")\n",
    "plt.show()"
   ]
  },
  {
   "cell_type": "code",
   "execution_count": null,
   "metadata": {
    "collapsed": true
   },
   "outputs": [],
   "source": []
  }
 ],
 "metadata": {
  "kernelspec": {
   "display_name": "TF_1.11_GPU_Python3",
   "language": "python",
   "name": "tf_1.11_gpu_python3"
  },
  "language_info": {
   "codemirror_mode": {
    "name": "ipython",
    "version": 3
   },
   "file_extension": ".py",
   "mimetype": "text/x-python",
   "name": "python",
   "nbconvert_exporter": "python",
   "pygments_lexer": "ipython3",
   "version": "3.6.7"
  }
 },
 "nbformat": 4,
 "nbformat_minor": 2
}
