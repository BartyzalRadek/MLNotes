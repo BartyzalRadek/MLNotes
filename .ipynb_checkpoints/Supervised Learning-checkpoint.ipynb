{
 "cells": [
  {
   "cell_type": "markdown",
   "metadata": {},
   "source": [
    "# Supervised learning"
   ]
  },
  {
   "cell_type": "markdown",
   "metadata": {},
   "source": [
    "## Decision trees"
   ]
  },
  {
   "cell_type": "markdown",
   "metadata": {},
   "source": [
    "**Greedy** = choosing one parameter at a time => may not end up with the best possible tree."
   ]
  },
  {
   "cell_type": "markdown",
   "metadata": {},
   "source": [
    "### Random Decision Forest = Random Forest of K Trees\n"
   ]
  },
  {
   "cell_type": "markdown",
   "metadata": {},
   "source": [
    "**Parameters:**\n",
    "\n",
    "$K$ = number of trees in the forest\n",
    "\n",
    "$D$ = number of parameters in our data = e.g. Wind, Weather, Humidity...\n",
    "\n",
    "$d$ = number of selected parameters for each of the **"
   ]
  },
  {
   "cell_type": "markdown",
   "metadata": {},
   "source": [
    "1) Pick a random subset of training data\n",
    "\n",
    "2) Randomly choose $d$ << $D$ parameters\n",
    "\n",
    "3) Grow a full unpruned Decision Tree that considers only the selected subset of data and parameters\n",
    "\n",
    "4) Repeat 1) -> 3) K times\n",
    "\n",
    "5) When a new testing instance shows up - classify it separately by each tree and return the class that has majority out of all votes"
   ]
  },
  {
   "cell_type": "markdown",
   "metadata": {},
   "source": [
    "## Nearest neighbours"
   ]
  },
  {
   "cell_type": "markdown",
   "metadata": {},
   "source": [
    "![Distances](https://raw.githubusercontent.com/BartyzalRadek/MLNotes/master/KNN-Distances.png)"
   ]
  },
  {
   "cell_type": "markdown",
   "metadata": {},
   "source": [
    "Assume that we want to classify point A:\n",
    "\n",
    "Points D and B are different only in one dimension while point C is different across both dimension."
   ]
  },
  {
   "cell_type": "markdown",
   "metadata": {},
   "source": [
    "According to the Euclidean distance ($p = 2$ = dashed line) the point D is much further away than C = showing that having a very large deviation in one dimension makes a really big difference for Euclidean. If we wanted to pay more attention to deviations across more dimensions we could choose a different $p$ value - for example the depicted $0.7$."
   ]
  },
  {
   "cell_type": "markdown",
   "metadata": {},
   "source": [
    "Source: https://www.youtube.com/channel/UCs7alOMRnxhzfKAJ4JjZ7Wg"
   ]
  },
  {
   "cell_type": "code",
   "execution_count": null,
   "metadata": {
    "collapsed": true
   },
   "outputs": [],
   "source": []
  }
 ],
 "metadata": {
  "anaconda-cloud": {},
  "kernelspec": {
   "display_name": "Python [Root]",
   "language": "python",
   "name": "Python [Root]"
  },
  "language_info": {
   "codemirror_mode": {
    "name": "ipython",
    "version": 2
   },
   "file_extension": ".py",
   "mimetype": "text/x-python",
   "name": "python",
   "nbconvert_exporter": "python",
   "pygments_lexer": "ipython2",
   "version": "2.7.12"
  }
 },
 "nbformat": 4,
 "nbformat_minor": 0
}
