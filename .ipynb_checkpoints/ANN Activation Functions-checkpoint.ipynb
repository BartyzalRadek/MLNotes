{
 "cells": [
  {
   "cell_type": "markdown",
   "metadata": {
    "collapsed": true
   },
   "source": [
    "# Activation functions"
   ]
  },
  {
   "cell_type": "code",
   "execution_count": 11,
   "metadata": {
    "collapsed": false,
    "scrolled": true
   },
   "outputs": [
    {
     "data": {
      "image/png": "[encoded data removed]",
      "text/plain": [
       "<matplotlib.figure.Figure at 0x8405390>"
      ]
     },
     "metadata": {},
     "output_type": "display_data"
    }
   ],
   "source": [
    "plotActivationFunctions([relu, tanh, logistic], ['ReLU', 'Hyperbolic tangent', 'Logistic Sigmoid'])"
   ]
  },
  {
   "cell_type": "code",
   "execution_count": null,
   "metadata": {
    "collapsed": false
   },
   "outputs": [],
   "source": []
  },
  {
   "cell_type": "markdown",
   "metadata": {},
   "source": [
    "### Logistic Sigmoid"
   ]
  },
  {
   "cell_type": "markdown",
   "metadata": {},
   "source": [
    " - non-symmetric\n",
    " - more biologically accurate than Tanh [1]\n",
    "  - Positive values only\n",
    " - when initialized with small weights output is around 0.5 \n",
    "  - not biologically accurate\n",
    "  - hurts gradient-based optimization\n"
   ]
  },
  {
   "cell_type": "markdown",
   "metadata": {},
   "source": [
    "### Hyperbolic Tangent"
   ]
  },
  {
   "cell_type": "markdown",
   "metadata": {},
   "source": [
    " - anti-symmetric\n",
    " - faster backprop convergence than Sigmoid [3]\n",
    "  - due to large gradient around 0\n",
    " - works well even though the forced antisymmetry around 0 is absent in biological neurons"
   ]
  },
  {
   "cell_type": "markdown",
   "metadata": {},
   "source": [
    "### Rectified Linear Unit"
   ]
  },
  {
   "cell_type": "markdown",
   "metadata": {},
   "source": [
    " - one-sided\n",
    " \n",
    "**Pros**\n",
    " - most biologically accurate of the three mentioned ones [1]\n",
    " - allows true zeros [1]\n",
    " - leads to truly sparse networks [1]\n",
    " - computationally cheaper than exponential functions\n",
    " \n",
    "**Cons**\n",
    " - too much sparsity may hurt predictive performance for an equal number of neurons, because it reduces the effective capacity of the model [1]\n",
    " - unbounded => use regularizer to prevent potential numerical problems \n",
    " - true zeros could hurt backprop => NO unless there is at least one path of non-zero units through all hidden layers. Then the error is propagated along that path and distributed only among these ACTIVE units = true zeros actually makes the optimization easier because the error is distributed among less units "
   ]
  },
  {
   "cell_type": "markdown",
   "metadata": {},
   "source": [
    "### Source:\n",
    "\n",
    " - [1] Glorot, Xavier, Antoine Bordes, and Yoshua Bengio. **\"Deep Sparse Rectifier Neural Networks.\"** Aistats. Vol. 15. No. 106. 2011.\n",
    "http://jmlr.org/proceedings/papers/v15/glorot11a/glorot11a.pdf\n",
    "\n",
    " - [2] LeCun, Yann A., et al. **\"Efficient backprop.\"** Neural networks: Tricks of the trade. Springer Berlin Heidelberg, 2012. 9-48.\n",
    "http://yann.lecun.com/exdb/publis/pdf/lecun-98b.pdf\n",
    " \n",
    " - [3] LeCun, Yann, Ido Kanter, and Sara A. Solla. **\"Second order properties of error surfaces: Learning time and generalization.\"** Advances in neural information processing systems 3 (1991): 918-924.\n",
    "  https://www.semanticscholar.org/paper/Second-Order-Properties-of-Error-Surfaces-LeCun-Kanter/0c43153a3627c7d98cc09f909c232f3899597204/pdf"
   ]
  },
  {
   "cell_type": "markdown",
   "metadata": {},
   "source": []
  },
  {
   "cell_type": "markdown",
   "metadata": {},
   "source": []
  },
  {
   "cell_type": "code",
   "execution_count": 2,
   "metadata": {
    "collapsed": false
   },
   "outputs": [],
   "source": [
    "%matplotlib inline\n",
    "\n",
    "import matplotlib\n",
    "import numpy as np\n",
    "import matplotlib.pyplot as plt\n",
    "e = np.e\n",
    "\n",
    "def plotActivationFunctions(functions, labels):\n",
    "    assert len(functions) == len(labels)\n",
    "    \n",
    "    x = np.linspace(-2, 2, 100)\n",
    "\n",
    "    plt.axis([x[0], x[-1], -2, 2])\n",
    "    plt.axhline(y=0, color='k')\n",
    "    plt.axvline(x=0, color='k')\n",
    "    \n",
    "    colors = ['red', 'green', 'blue']\n",
    "    handles = []\n",
    "\n",
    "    for i in range(0, len(functions)):\n",
    "        func = np.vectorize(functions[i], otypes=[np.float64])\n",
    "        handle, = plt.plot(x,func(x), colors[i], label = labels[i])\n",
    "        handles.append(handle)\n",
    "\n",
    "    plt.legend(loc=2, handles=handles)\n",
    "    plt.show()\n",
    "    \n",
    "def relu(x):\n",
    "    return x if x > 0 else 0\n",
    "\n",
    "def tanh(x):\n",
    "    return 2 / (1 + np.exp(-2*x)) -1\n",
    "\n",
    "def logistic(x):\n",
    "    return 1 / (1 + np.exp(-x))"
   ]
  },
  {
   "cell_type": "code",
   "execution_count": null,
   "metadata": {
    "collapsed": true
   },
   "outputs": [],
   "source": []
  }
 ],
 "metadata": {
  "anaconda-cloud": {},
  "kernelspec": {
   "display_name": "Python [Root]",
   "language": "python",
   "name": "Python [Root]"
  },
  "language_info": {
   "codemirror_mode": {
    "name": "ipython",
    "version": 2
   },
   "file_extension": ".py",
   "mimetype": "text/x-python",
   "name": "python",
   "nbconvert_exporter": "python",
   "pygments_lexer": "ipython2",
   "version": "2.7.12"
  }
 },
 "nbformat": 4,
 "nbformat_minor": 0
}
