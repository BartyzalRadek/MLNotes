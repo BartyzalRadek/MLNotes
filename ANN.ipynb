{
 "cells": [
  {
   "cell_type": "code",
   "execution_count": 33,
   "metadata": {
    "collapsed": false
   },
   "outputs": [
    {
     "data": {
      "image/png": "[encoded data removed]",
      "text/plain": [
       "<matplotlib.figure.Figure at 0x8210668>"
      ]
     },
     "metadata": {},
     "output_type": "display_data"
    }
   ],
   "source": [
    "%matplotlib inline\n",
    "\n",
    "import matplotlib\n",
    "import numpy as np\n",
    "import matplotlib.pyplot as plt\n",
    "e = np.e\n",
    "\n",
    "def plotActivationFunctions(functions, labels):\n",
    "    assert len(functions) == len(labels)\n",
    "    \n",
    "    x = np.linspace(-2, 2, 100)\n",
    "\n",
    "    plt.axis([x[0], x[-1], -2, 2])\n",
    "    plt.axhline(y=0, color='k')\n",
    "    plt.axvline(x=0, color='k')\n",
    "    \n",
    "    colors = ['red', 'green', 'blue']\n",
    "    handles = []\n",
    "\n",
    "    for i in range(0, len(functions)):\n",
    "        func = np.vectorize(functions[i], otypes=[np.float64])\n",
    "        handle, = plt.plot(x,func(x), colors[i], label = labels[i])\n",
    "        handles.append(handle)\n",
    "\n",
    "    plt.legend(loc=2, handles=handles)\n",
    "    plt.show()\n",
    "    \n",
    "def relu(x):\n",
    "    return x if x > 0 else 0\n",
    "\n",
    "def tanh(x):\n",
    "    return 2 / (1 + np.exp(-2*x)) -1\n",
    "\n",
    "def logistic(x):\n",
    "    return 1 / (1 + np.exp(-x))\n",
    "\n",
    "plotActivationFunctions([relu, tanh, logistic], ['ReLU', 'Hyperbolic tangent', 'Logistic'])"
   ]
  },
  {
   "cell_type": "code",
   "execution_count": null,
   "metadata": {
    "collapsed": true
   },
   "outputs": [],
   "source": []
  }
 ],
 "metadata": {
  "kernelspec": {
   "display_name": "Python [Root]",
   "language": "python",
   "name": "Python [Root]"
  },
  "language_info": {
   "codemirror_mode": {
    "name": "ipython",
    "version": 2
   },
   "file_extension": ".py",
   "mimetype": "text/x-python",
   "name": "python",
   "nbconvert_exporter": "python",
   "pygments_lexer": "ipython2",
   "version": "2.7.12"
  }
 },
 "nbformat": 4,
 "nbformat_minor": 0
}
